{
  "nbformat": 4,
  "nbformat_minor": 0,
  "metadata": {
    "colab": {
      "provenance": []
    },
    "kernelspec": {
      "name": "python3",
      "display_name": "Python 3"
    },
    "language_info": {
      "name": "python"
    }
  },
  "cells": [
    {
      "cell_type": "code",
      "execution_count": 3,
      "metadata": {
        "colab": {
          "base_uri": "https://localhost:8080/"
        },
        "id": "IUya5wXcg8m7",
        "outputId": "08044d77-8092-4a1b-ab6d-e31d78ba27a9"
      },
      "outputs": [
        {
          "output_type": "stream",
          "name": "stdout",
          "text": [
            "CF diagnosis Flu: 0.92\n",
            "CF diagnosis Flu (setelah demam diubah jadi 0.2): 0.85\n"
          ]
        }
      ],
      "source": [
        "# Gejala yang dilaporkan oleh user dan nilai CF-nya\n",
        "gejala_user = {\n",
        "    \"demam\": 0.7,\n",
        "    \"batuk\": 0.5,\n",
        "    \"sakit_tenggorokan\": 0.6,\n",
        "    \"mual\": 0.3,\n",
        "    \"mata_berair\": 0.4,\n",
        "    \"hilang_nafsu_makan\": 0.5,\n",
        "    \"diare\": 0.2,\n",
        "    \"menggigil\": 0.6\n",
        "}\n",
        "\n",
        "# Pengetahuan pakar tentang penyakit\n",
        "pengetahuan = {\n",
        "    \"flu\": {\n",
        "        \"demam\": 0.8,\n",
        "        \"batuk\": 0.7,\n",
        "        \"sakit_tenggorokan\": 0.6,\n",
        "        \"mual\": 0.2,\n",
        "        \"mata_berair\": 0.3,\n",
        "        \"hilang_nafsu_makan\": 0.4,\n",
        "        \"diare\": 0.1,\n",
        "        \"menggigil\": 0.6\n",
        "    }\n",
        "}\n",
        "\n",
        "# Fungsi menghitung CF gabungan\n",
        "def hitung_cf(gejala_user, pengetahuan_pakar):\n",
        "    cf_total = 0\n",
        "    first = True\n",
        "    for gejala in sorted(gejala_user):\n",
        "        if gejala in pengetahuan_pakar:\n",
        "            cf_user = gejala_user[gejala]\n",
        "            cf_pakar = pengetahuan_pakar[gejala]\n",
        "            cf = cf_user * cf_pakar\n",
        "            if first:\n",
        "                cf_total = cf\n",
        "                first = False\n",
        "            else:\n",
        "                cf_total = cf_total + cf * (1 - cf_total)\n",
        "    return cf_total\n",
        "\n",
        "# Hitung CF sebelum perubahan\n",
        "cf_flu = hitung_cf(gejala_user, pengetahuan[\"flu\"])\n",
        "print(f\"CF diagnosis Flu: {cf_flu:.2f}\")\n",
        "\n",
        "# Ubah nilai \"demam\" menjadi 0.2\n",
        "gejala_user[\"demam\"] = 0.2\n",
        "\n",
        "# Hitung ulang CF setelah perubahan\n",
        "cf_flu_perubahan = hitung_cf(gejala_user, pengetahuan[\"flu\"])\n",
        "print(f\"CF diagnosis Flu (setelah demam diubah jadi 0.2): {cf_flu_perubahan:.2f}\")\n"
      ]
    },
    {
      "cell_type": "markdown",
      "source": [
        "**Sebelum Perubahan** (demam = 0.7):\n",
        "\n",
        "\"Demam\" sangat berpengaruh (pakar: 0.8).\n",
        "Kontribusinya besar: 0.7 * 0.8 = 0.56.\n",
        "CF awal tinggi → kombinasi gejala lainnya menambah hingga CF total sekitar 0.91.\n",
        "\n",
        "\n",
        "\n",
        "\n",
        "**Sesudah Perubahan** (demam = 0.2):\n",
        "\n",
        "Kontribusi \"demam\" menurun: 0.2 * 0.8 = 0.16.\n",
        "\n",
        "CF total lebih rendah, jadi sekitar 0.84.\n",
        "\n",
        "\n",
        "**Kesimpulan:**\n",
        "\n",
        "Perubahan nilai \"demam\" dari 0.7 menjadi 0.2 menunjukkan dampak signifikan terhadap hasil akhir diagnosis. Sebelumnya, karena \"demam\" merupakan salah satu gejala utama flu dengan bobot pakar tinggi (0.8), kontribusinya terhadap nilai CF sangat besar. Saat nilai \"demam\" tinggi, sistem lebih yakin bahwa pengguna mungkin terkena flu, sehingga nilai CF akhir mencapai sekitar 0.91.\n",
        "\n",
        "Namun setelah nilai \"demam\" diturunkan, kontribusinya menjadi jauh lebih kecil. Karena metode perhitungan CF bersifat kumulatif dan non-linear, perubahan kecil pada gejala yang bobotnya tinggi bisa mempengaruhi hasil akhir secara signifikan. Nilai CF diagnosis flu pun menurun menjadi sekitar 0.84.\n",
        "\n",
        "Hal ini menunjukkan bahwa gejala-gejala dominan seperti \"demam\" sangat menentukan dalam proses pengambilan keputusan. Jika gejala penting ini melemah, maka keyakinan sistem terhadap suatu diagnosis juga menurun secara keseluruhan."
      ],
      "metadata": {
        "id": "GgHESAUliTz6"
      }
    },
    {
      "cell_type": "code",
      "source": [],
      "metadata": {
        "id": "2WMUS3fKikuC"
      },
      "execution_count": null,
      "outputs": []
    }
  ]
}